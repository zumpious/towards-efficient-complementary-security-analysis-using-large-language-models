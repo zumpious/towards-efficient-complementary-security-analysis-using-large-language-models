{
 "cells": [
  {
   "cell_type": "code",
   "execution_count": 1,
   "metadata": {},
   "outputs": [],
   "source": [
    "import pandas as pd\n",
    "import numpy as np\n",
    "import os\n",
    "import json\n",
    "import re"
   ]
  },
  {
   "cell_type": "code",
   "execution_count": 2,
   "metadata": {},
   "outputs": [],
   "source": [
    "SPOTBUGS_DATASET_PATH = '../../owasp_benchmark/spotbugs_dataset.pkl'\n",
    "df = pd.read_pickle(SPOTBUGS_DATASET_PATH)"
   ]
  },
  {
   "cell_type": "code",
   "execution_count": 11,
   "metadata": {},
   "outputs": [
    {
     "name": "stdout",
     "output_type": "stream",
     "text": [
      "config_4 dataframe:\n",
      "Index(['question', 'response', 'confidence_of_llm', 'computation_time',\n",
      "       'threshold_value', 'prompt_tokens', 'response_tokens', 'name', 'Date'],\n",
      "      dtype='object')\n",
      "0    10.0\n",
      "Name: threshold_value, dtype: float64\n",
      "0    Decision: 10.0\n",
      "Name: confidence_of_llm, dtype: object\n",
      "config_2 dataframe:\n",
      "Index(['question', 'response', 'confidence_of_llm', 'computation_time',\n",
      "       'threshold_value', 'prompt_tokens', 'response_tokens', 'name', 'Date'],\n",
      "      dtype='object')\n",
      "0    9.0\n",
      "Name: threshold_value, dtype: float64\n",
      "0    Decision: 9.0\n",
      "Name: confidence_of_llm, dtype: object\n",
      "config_5 dataframe:\n",
      "Index(['question', 'response', 'confidence_of_llm', 'computation_time',\n",
      "       'threshold_value', 'prompt_tokens', 'response_tokens', 'name', 'Date'],\n",
      "      dtype='object')\n",
      "0    10.0\n",
      "Name: threshold_value, dtype: float64\n",
      "0    Decision: 10.0\n",
      "Name: confidence_of_llm, dtype: object\n",
      "config_1 dataframe:\n",
      "Index(['question', 'response', 'confidence_of_llm', 'computation_time',\n",
      "       'threshold_value', 'prompt_tokens', 'response_tokens', 'name', 'Date'],\n",
      "      dtype='object')\n",
      "0    9.0\n",
      "Name: threshold_value, dtype: float64\n",
      "0    Decision: 9.0\n",
      "Name: confidence_of_llm, dtype: object\n",
      "config_3 dataframe:\n",
      "Index(['question', 'response', 'confidence_of_llm', 'computation_time',\n",
      "       'threshold_value', 'prompt_tokens', 'response_tokens', 'name', 'Date'],\n",
      "      dtype='object')\n",
      "0    10.0\n",
      "Name: threshold_value, dtype: float64\n",
      "0    Decision: 10.0\n",
      "Name: confidence_of_llm, dtype: object\n"
     ]
    }
   ],
   "source": [
    "json_files = [f for f in os.listdir('./') if f.endswith('.json')]\n",
    "\n",
    "dataframes = {}\n",
    "\n",
    "for filename in json_files:\n",
    "    with open(filename, 'r') as f:\n",
    "        json_data = json.load(f)\n",
    "    \n",
    "    vulnerabilities_list = [\n",
    "        {**value, \"name\": key} for key, value in json_data[\"vulnerabilities\"].items()\n",
    "    ]\n",
    "    \n",
    "    llm_df = pd.json_normalize(vulnerabilities_list)\n",
    "    llm_df[\"Date\"] = json_data[\"Date\"]\n",
    "    \n",
    "    config_match = re.search(r'(config\\d+)', filename)\n",
    "    if config_match:\n",
    "        config_number = config_match.group(1).replace('config', 'config_')\n",
    "        dataframes[config_number] = llm_df\n",
    "\n",
    "for name, df in dataframes.items():\n",
    "    print(f\"{name} dataframe:\")\n",
    "    print(df.columns)\n",
    "    print(df.head(1).threshold_value)\n",
    "    print(df.head(1).confidence_of_llm)"
   ]
  },
  {
   "cell_type": "code",
   "execution_count": null,
   "metadata": {},
   "outputs": [],
   "source": []
  },
  {
   "cell_type": "code",
   "execution_count": null,
   "metadata": {},
   "outputs": [],
   "source": []
  }
 ],
 "metadata": {
  "kernelspec": {
   "display_name": "base",
   "language": "python",
   "name": "python3"
  },
  "language_info": {
   "codemirror_mode": {
    "name": "ipython",
    "version": 3
   },
   "file_extension": ".py",
   "mimetype": "text/x-python",
   "name": "python",
   "nbconvert_exporter": "python",
   "pygments_lexer": "ipython3",
   "version": "3.9.12"
  }
 },
 "nbformat": 4,
 "nbformat_minor": 2
}
