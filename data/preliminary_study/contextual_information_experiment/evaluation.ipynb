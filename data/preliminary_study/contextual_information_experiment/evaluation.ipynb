{
 "cells": [
  {
   "cell_type": "code",
   "execution_count": 10,
   "metadata": {},
   "outputs": [],
   "source": [
    "import pandas as pd\n",
    "import numpy as np\n",
    "import os\n",
    "import json\n",
    "import re"
   ]
  },
  {
   "cell_type": "code",
   "execution_count": 11,
   "metadata": {},
   "outputs": [],
   "source": [
    "SPOTBUGS_DATASET_PATH = '../../owasp_benchmark/spotbugs_dataset.pkl'\n",
    "spotbugs_dataset = pd.read_pickle(SPOTBUGS_DATASET_PATH)"
   ]
  },
  {
   "cell_type": "code",
   "execution_count": 12,
   "metadata": {},
   "outputs": [
    {
     "name": "stdout",
     "output_type": "stream",
     "text": [
      "./results/experiment_1_config3__zero_shot_Default__gpt-35-turbo_2024.06.12_17-36-59_1557.json\n",
      "./results/experiment_1_config5__zero_shot_Default__gpt-35-turbo_2024.06.12_21-56-18_1557.json\n",
      "./results/experiment_1_config1__zero_shot_Default__gpt-35-turbo_2024.06.12_16-11-45_1557.json\n",
      "./results/experiment_1_config4__zero_shot_Default__gpt-35-turbo_2024.06.12_18-26-23_1557.json\n",
      "./results/experiment_1_config2__zero_shot_Default__gpt-35-turbo_2024.06.12_17-02-13_1557.json\n",
      "Index(['question', 'response', 'confidence_of_llm', 'computation_time',\n",
      "       'threshold_value', 'prompt_tokens', 'response_tokens', 'name', 'Date'],\n",
      "      dtype='object')\n",
      "0    9.0\n",
      "Name: threshold_value, dtype: float64\n"
     ]
    }
   ],
   "source": [
    "results_dir = './results/'\n",
    "json_files = [os.path.join(results_dir, f) for f in os.listdir(results_dir) if f.endswith('.json')]\n",
    "\n",
    "dataframes = {}\n",
    "\n",
    "for filename in json_files:\n",
    "    print(filename)\n",
    "    with open(filename, 'r') as f:\n",
    "        json_data = json.load(f)\n",
    "    \n",
    "    vulnerabilities_list = [\n",
    "        {**value, \"name\": key} for key, value in json_data[\"vulnerabilities\"].items()\n",
    "    ]\n",
    "    \n",
    "    llm_df = pd.json_normalize(vulnerabilities_list)\n",
    "    llm_df[\"Date\"] = json_data[\"Date\"]\n",
    "    \n",
    "    config_match = re.search(r'(config\\d+)', filename)\n",
    "    if config_match:\n",
    "        config_number = config_match.group(1).replace('config', 'config_')\n",
    "        dataframes[config_number] = llm_df\n",
    "\n",
    "print(dataframes[\"config_1\"].columns)\n",
    "print(dataframes[\"config_1\"].head(1).threshold_value)  "
   ]
  },
  {
   "cell_type": "code",
   "execution_count": 13,
   "metadata": {
    "vscode": {
     "languageId": "ruby"
    }
   },
   "outputs": [],
   "source": [
    "for _, df in dataframes.items():\n",
    "  real_vulnerability_map = dict(zip(spotbugs_dataset[\"name\"], spotbugs_dataset[\"real vulnerability\"]))\n",
    "  df[\"real_vulnerability\"] = df[\"name\"].map(real_vulnerability_map)"
   ]
  },
  {
   "cell_type": "code",
   "execution_count": 14,
   "metadata": {},
   "outputs": [],
   "source": [
    "TRESHOLD = 2"
   ]
  },
  {
   "cell_type": "code",
   "execution_count": 15,
   "metadata": {},
   "outputs": [],
   "source": [
    "for _, df in dataframes.items():\n",
    "  df['llm_vul_decision'] = np.where(df['threshold_value'] < 0.0, True, df['threshold_value'] >= TRESHOLD) # due to handling invalid LLM responses we label threshold_value < 0 as True, as those weaknesses must be reviewed by humans"
   ]
  },
  {
   "cell_type": "code",
   "execution_count": 16,
   "metadata": {},
   "outputs": [],
   "source": [
    "for _, df in dataframes.items():\n",
    "  conditions = [\n",
    "    (df['real_vulnerability'] == True) & (df['llm_vul_decision'] == True),\n",
    "    (df['real_vulnerability'] == False) & (df['llm_vul_decision'] == True),\n",
    "    (df['real_vulnerability'] == False) & (df['llm_vul_decision'] == False),\n",
    "    (df['real_vulnerability'] == True) & (df['llm_vul_decision'] == False)\n",
    "  ]\n",
    "  choices = ['TP', 'FP', 'TN', 'FN']\n",
    "  df['llm_classification'] = np.select(conditions, choices)"
   ]
  },
  {
   "cell_type": "code",
   "execution_count": 17,
   "metadata": {},
   "outputs": [
    {
     "name": "stdout",
     "output_type": "stream",
     "text": [
      "Confusion Matrix for config_3:\n",
      "TP    1020\n",
      "FP     464\n",
      "TN      29\n",
      "FN      44\n",
      "Name: llm_classification, dtype: int64\n",
      "\n",
      "Confusion Matrix for config_5:\n",
      "TP    1051\n",
      "FP     488\n",
      "TN       5\n",
      "FN      13\n",
      "Name: llm_classification, dtype: int64\n",
      "\n",
      "Confusion Matrix for config_1:\n",
      "TP    1047\n",
      "FP     482\n",
      "TN      11\n",
      "FN      17\n",
      "Name: llm_classification, dtype: int64\n",
      "\n",
      "Confusion Matrix for config_4:\n",
      "TP    1047\n",
      "FP     489\n",
      "TN       4\n",
      "FN      17\n",
      "Name: llm_classification, dtype: int64\n",
      "\n",
      "Confusion Matrix for config_2:\n",
      "TP    1057\n",
      "FP     485\n",
      "TN       8\n",
      "FN       7\n",
      "Name: llm_classification, dtype: int64\n",
      "\n"
     ]
    }
   ],
   "source": [
    "for config, df in dataframes.items():\n",
    "  print(f\"Confusion Matrix for {config}:\")\n",
    "  print(df[\"llm_classification\"].value_counts().reindex(choices, fill_value=0))\n",
    "  print()"
   ]
  },
  {
   "cell_type": "markdown",
   "metadata": {},
   "source": [
    "It can be seen that config 2 of the contextual information is the only config that comes with a higher number of TNs then FNs. This means it detected more FPs in the dataset then missing real weaknesses. \n",
    "\n",
    "For that reason config 2 was choosen to be moved on with."
   ]
  }
 ],
 "metadata": {
  "kernelspec": {
   "display_name": "base",
   "language": "python",
   "name": "python3"
  },
  "language_info": {
   "codemirror_mode": {
    "name": "ipython",
    "version": 3
   },
   "file_extension": ".py",
   "mimetype": "text/x-python",
   "name": "python",
   "nbconvert_exporter": "python",
   "pygments_lexer": "ipython3",
   "version": "3.9.12"
  }
 },
 "nbformat": 4,
 "nbformat_minor": 2
}
